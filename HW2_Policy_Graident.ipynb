{
 "cells": [
  {
   "cell_type": "code",
   "execution_count": 1,
   "metadata": {
    "collapsed": false
   },
   "outputs": [],
   "source": [
    "# Automatically reload changes to external code\n",
    "%load_ext autoreload\n",
    "%autoreload 2"
   ]
  },
  {
   "cell_type": "markdown",
   "metadata": {},
   "source": [
    "In this assignment, you will solve a classic control problem - CartPole using policy gradient methods.\n",
    "\n",
    "First, you will implement the \"vanilla\" policy gradient method, i.e., a method that repeatedly computes **unbiased** estimates $\\hat{g}$ of $\\nabla_{\\theta} E[\\sum_t r_t]$ and takes gradient ascent steps $\\theta \\rightarrow \\theta + \\epsilon \\hat{g}$ so as to increase the total rewards collected in each episode. To make sure our code can solve multiple MDPs with different policy parameterizations, provided code follows an OOP manner and represents MDP and Policy as classes.\n",
    "\n",
    "The following code constructs an instance of the MDP using OpenAI gym."
   ]
  },
  {
   "cell_type": "code",
   "execution_count": 2,
   "metadata": {
    "collapsed": false
   },
   "outputs": [
    {
     "name": "stderr",
     "output_type": "stream",
     "text": [
      "[2016-10-15 21:57:09,076] Making new env: CartPole-v0\n"
     ]
    }
   ],
   "source": [
    "import gym\n",
    "import tensorflow as tf\n",
    "import numpy as np\n",
    "from policy_gradient import util\n",
    "from policy_gradient.policy import CategoricalPolicy\n",
    "from policy_gradient.baselines.linear_feature_baseline import LinearFeatureBaseline\n",
    "import matplotlib.pyplot as plt\n",
    "\n",
    "np.random.seed(0)\n",
    "tf.set_random_seed(0)\n",
    "\n",
    "# CartPole-v0 is a MDP with finite state and action space. \n",
    "# In this environment, A pendulum is attached by an un-actuated joint to a cart, \n",
    "# and the goal is to prevent it from falling over. You can apply a force of +1 or -1 to the cart.\n",
    "# A reward of +1 is provided for every timestep that the pendulum remains upright. \n",
    "# To visualize CartPole-v0, please see https://gym.openai.com/envs/CartPole-v0\n",
    "\n",
    "env = gym.make('CartPole-v0')"
   ]
  },
  {
   "cell_type": "markdown",
   "metadata": {},
   "source": [
    "## Problem 1: construct a neural network to represent policy\n",
    "\n",
    "Make sure you know how to construct neural network using tensorflow.\n",
    "\n",
    "1. Open **homework2/policy_gradient/policy.py**.\n",
    "2. Follow the instruction of Problem 1."
   ]
  },
  {
   "cell_type": "markdown",
   "metadata": {},
   "source": [
    "## Problem 2: compute the surrogate loss\n",
    "\n",
    "If there are $N$ episodes in an iteration, then for $i$ th episode we define $R_t^i = \\sum_{{t^′}=t}^T \\gamma^{{t^′}-t}r(s_{t^′}, a_{t^′})$ as the accumulated discounted rewards from timestep $t$ to the end of that episode, where $\\gamma$ is the discount rate.\n",
    "\n",
    "The pseudocode for the REINFORCE algorithm is as below:\n",
    "\n",
    "1. Initialize policy $\\pi$ with parameter $\\theta_1$.\n",
    "2. For iteration $k = 1, 2, ...$:\n",
    "    * Sample N episodes $\\tau_1, \\tau_2, ..., \\tau_N$ under the current policy $\\theta_k$, where $\\tau_i =(s_i^t,a_i^t,R_i^t)_{t=0}^{T−1}$. Note that the last state is dropped since no action is taken after observing the last state.\n",
    "    * Compute the empirical policy gradient using formula: $$\\hat{g} = E_{\\pi_\\theta}[\\nabla_{\\theta} log\\pi_\\theta(a_t^i | s_t^i) R_t^i]$$\n",
    "    * Take a gradient step: $\\theta_{k+1} = \\theta_k + \\epsilon \\hat{g}$.\n",
    "    \n",
    "    \n",
    "Note that we can transform the policy gradient formula as\n",
    "\n",
    "$$\\hat{g} = \\nabla_{\\theta} \\frac{1}{(NT)}(\\sum_{i=1}^N \\sum_{t=0}^T log\\pi_\\theta(a_t^i | s_t^i) R_t^i)$$\n",
    "\n",
    "and $L(\\theta) = \\frac{1}{(NT)}(\\sum_{i=1}^N \\sum_{t=0}^T log\\pi_\\theta(a_t^i | s_t^i) R_t^i)$ is called the surrogate loss. \n",
    "\n",
    "We can first construct the computation graph for $L(\\theta)$, and then take its gradient as the empirical policy gradient.\n",
    "\n",
    "\n",
    "1. Open **homework2/policy_gradient/policy.py**.\n",
    "2. Follow the instruction of Problem 2."
   ]
  },
  {
   "cell_type": "code",
   "execution_count": 3,
   "metadata": {
    "collapsed": false
   },
   "outputs": [
    {
     "name": "stderr",
     "output_type": "stream",
     "text": [
      "/usr/local/lib/python2.7/dist-packages/tensorflow/python/ops/gradients.py:90: UserWarning: Converting sparse IndexedSlices to a dense Tensor of unknown shape. This may consume a large amount of memory.\n",
      "  \"Converting sparse IndexedSlices to a dense Tensor of unknown shape. \"\n"
     ]
    }
   ],
   "source": [
    "sess = tf.Session()\n",
    "\n",
    "# Construct a neural network to represent policy which maps observed state to action. \n",
    "in_dim = util.flatten_space(env.observation_space)\n",
    "out_dim = util.flatten_space(env.action_space)\n",
    "hidden_dim = 8\n",
    "\n",
    "opt = tf.train.AdamOptimizer(learning_rate=0.01)\n",
    "policy = CategoricalPolicy(in_dim, out_dim, hidden_dim, opt, sess)\n",
    "\n",
    "sess.run(tf.initialize_all_variables())"
   ]
  },
  {
   "cell_type": "markdown",
   "metadata": {},
   "source": [
    "# Problem 3\n",
    "\n",
    "Implement a function that computes the accumulated discounted rewards of each timestep _t_ from _t_ to the end of the episode.\n",
    "\n",
    "For example:\n",
    "\n",
    "```python\n",
    "rewards = [1, 1, 1]\n",
    "discount_rate = 0.99\n",
    "util.discount_cumsum(rewards, discount_rate)\n",
    "```\n",
    "\n",
    "should return:\n",
    "\n",
    "`array([ 2.9701,  1.99  ,  1.    ])`\n",
    "\n",
    "1. Open **homework/policy_gradient/util.py**.\n",
    "2. Implement the commented function."
   ]
  },
  {
   "cell_type": "code",
   "execution_count": 4,
   "metadata": {
    "collapsed": false
   },
   "outputs": [
    {
     "data": {
      "text/plain": [
       "array([ 2.9701,  1.99  ,  1.    ])"
      ]
     },
     "execution_count": 4,
     "metadata": {},
     "output_type": "execute_result"
    }
   ],
   "source": [
    "rewards = np.array([1, 1, 1])\n",
    "discount_rate = 0.99\n",
    "util.discount_cumsum(rewards, discount_rate)"
   ]
  },
  {
   "cell_type": "markdown",
   "metadata": {},
   "source": [
    "# Problem 4\n",
    "\n",
    "Use baseline to reduce the variance of our gradient estimate.\n",
    "\n",
    "1. Fill in the function `process_paths` of class `PolicyOptimizer` below."
   ]
  },
  {
   "cell_type": "code",
   "execution_count": 5,
   "metadata": {
    "collapsed": true
   },
   "outputs": [],
   "source": [
    "class PolicyOptimizer(object):\n",
    "    def __init__(self, env, policy, baseline, n_iter, n_episode, path_length,\n",
    "        discount_rate=.99):\n",
    "\n",
    "        self.policy = policy\n",
    "        self.baseline = baseline\n",
    "        self.env = env\n",
    "        self.n_iter = n_iter\n",
    "        self.n_episode = n_episode\n",
    "        self.path_length = path_length\n",
    "        self.discount_rate = discount_rate\n",
    "\n",
    "    def sample_path(self):\n",
    "        obs = []\n",
    "        actions = []\n",
    "        rewards = []\n",
    "        ob = self.env.reset()\n",
    "\n",
    "        for _ in range(self.path_length):\n",
    "            a = self.policy.act(ob.reshape(1, -1))\n",
    "            next_ob, r, done, _ = self.env.step(a)\n",
    "            obs.append(ob)\n",
    "            actions.append(a)\n",
    "            rewards.append(r)\n",
    "            ob = next_ob\n",
    "            if done:\n",
    "                break\n",
    "\n",
    "        return dict(\n",
    "            observations=np.array(obs),\n",
    "            actions=np.array(actions),\n",
    "            rewards=np.array(rewards),\n",
    "        )\n",
    "\n",
    "    def process_paths(self, paths):\n",
    "        for p in paths:\n",
    "            if self.baseline != None:\n",
    "                b = self.baseline.predict(p)\n",
    "            else:\n",
    "                b = 0\n",
    "            \n",
    "            # `p[\"rewards\"]` is a matrix contains the rewards of each timestep in a sample path\n",
    "            r = util.discount_cumsum(p[\"rewards\"], self.discount_rate)\n",
    "            \n",
    "            \"\"\"\n",
    "            Problem 4:\n",
    "\n",
    "            1. Variable `b` is the reward predicted by our baseline\n",
    "            2. Use it to reduce variance and then assign the result to the variable `a`\n",
    "\n",
    "            Sample solution should be only 1 line.\n",
    "            \"\"\"\n",
    "            # YOUR CODE HERE >>>>>>\n",
    "            # a = ???\n",
    "            a = r-b\n",
    "            # <<<<<<<<\n",
    "\n",
    "            p[\"returns\"] = r\n",
    "            p[\"baselines\"] = b\n",
    "            p[\"advantages\"] = (a - a.mean()) / (a.std() + 1e-8) # normalize\n",
    "            #p[\"advantages\"] = a\n",
    "\n",
    "        obs = np.concatenate([ p[\"observations\"] for p in paths ])\n",
    "        actions = np.concatenate([ p[\"actions\"] for p in paths ])\n",
    "        rewards = np.concatenate([ p[\"rewards\"] for p in paths ])\n",
    "        advantages = np.concatenate([ p[\"advantages\"] for p in paths ])\n",
    "\n",
    "        return dict(\n",
    "            observations=obs,\n",
    "            actions=actions,\n",
    "            rewards=rewards,\n",
    "            advantages=advantages,\n",
    "        )\n",
    "\n",
    "    def train(self):\n",
    "        for i in range(1, self.n_iter + 1):\n",
    "            paths = []\n",
    "            for _ in range(self.n_episode):\n",
    "                paths.append(self.sample_path())\n",
    "            data = self.process_paths(paths)\n",
    "            loss = self.policy.train(data[\"observations\"], data[\"actions\"], data[\"advantages\"])\n",
    "            avg_return = np.mean([sum(p[\"rewards\"]) for p in paths])\n",
    "            std_num=np.std([data[\"advantages\"]])\n",
    "            print(\"Iteration {}: Average Return = {}, standard deviation = {}\".format(i, avg_return, std_num))\n",
    "            iter_num.append(i)\n",
    "            avg.append(avg_return)\n",
    "            std.append(std_num)\n",
    "            \n",
    "            # CartPole-v0 defines \"solving\" as getting average reward of 195.0 over 100 consecutive trials.\n",
    "            if avg_return >= 195:\n",
    "                print(\"Solve at {} iterations, which equals {} episodes.\".format(i, i*100))\n",
    "                break\n",
    "\n",
    "            if self.baseline != None:\n",
    "                self.baseline.fit(paths)"
   ]
  },
  {
   "cell_type": "code",
   "execution_count": 6,
   "metadata": {
    "collapsed": false
   },
   "outputs": [
    {
     "name": "stdout",
     "output_type": "stream",
     "text": [
      "Iteration 1: Average Return = 16.3, standard deviation = 0.999999997688\n",
      "Iteration 2: Average Return = 19.24, standard deviation = 0.999999998014\n",
      "Iteration 3: Average Return = 18.1, standard deviation = 0.9999999979\n",
      "Iteration 4: Average Return = 19.02, standard deviation = 0.999999997993\n",
      "Iteration 5: Average Return = 20.41, standard deviation = 0.999999998116\n",
      "Iteration 6: Average Return = 22.27, standard deviation = 0.999999998257\n",
      "Iteration 7: Average Return = 21.07, standard deviation = 0.999999998171\n",
      "Iteration 8: Average Return = 27.45, standard deviation = 0.999999998551\n",
      "Iteration 9: Average Return = 26.68, standard deviation = 0.999999998514\n",
      "Iteration 10: Average Return = 28.76, standard deviation = 0.999999998608\n",
      "Iteration 11: Average Return = 27.66, standard deviation = 0.99999999856\n",
      "Iteration 12: Average Return = 29.33, standard deviation = 0.999999998632\n",
      "Iteration 13: Average Return = 36.47, standard deviation = 0.99999999886\n",
      "Iteration 14: Average Return = 34.94, standard deviation = 0.999999998819\n",
      "Iteration 15: Average Return = 31.86, standard deviation = 0.999999998725\n",
      "Iteration 16: Average Return = 39.61, standard deviation = 0.999999998934\n",
      "Iteration 17: Average Return = 39.86, standard deviation = 0.99999999894\n",
      "Iteration 18: Average Return = 39.95, standard deviation = 0.999999998942\n",
      "Iteration 19: Average Return = 42.42, standard deviation = 0.999999998992\n",
      "Iteration 20: Average Return = 42.63, standard deviation = 0.999999998996\n",
      "Iteration 21: Average Return = 43.88, standard deviation = 0.999999999019\n",
      "Iteration 22: Average Return = 43.58, standard deviation = 0.999999999014\n",
      "Iteration 23: Average Return = 43.2, standard deviation = 0.999999999007\n",
      "Iteration 24: Average Return = 49.09, standard deviation = 0.9999999991\n",
      "Iteration 25: Average Return = 46.21, standard deviation = 0.999999999057\n",
      "Iteration 26: Average Return = 51.08, standard deviation = 0.999999999127\n",
      "Iteration 27: Average Return = 47.83, standard deviation = 0.999999999083\n",
      "Iteration 28: Average Return = 53.05, standard deviation = 0.999999999152\n",
      "Iteration 29: Average Return = 49.96, standard deviation = 0.999999999113\n",
      "Iteration 30: Average Return = 51.9, standard deviation = 0.999999999139\n",
      "Iteration 31: Average Return = 49.43, standard deviation = 0.999999999106\n",
      "Iteration 32: Average Return = 59.27, standard deviation = 0.999999999218\n",
      "Iteration 33: Average Return = 56.96, standard deviation = 0.999999999195\n",
      "Iteration 34: Average Return = 54.57, standard deviation = 0.99999999917\n",
      "Iteration 35: Average Return = 56.0, standard deviation = 0.999999999186\n",
      "Iteration 36: Average Return = 54.73, standard deviation = 0.999999999172\n",
      "Iteration 37: Average Return = 58.02, standard deviation = 0.999999999207\n",
      "Iteration 38: Average Return = 59.11, standard deviation = 0.999999999217\n",
      "Iteration 39: Average Return = 61.79, standard deviation = 0.999999999241\n",
      "Iteration 40: Average Return = 58.5, standard deviation = 0.999999999212\n",
      "Iteration 41: Average Return = 57.43, standard deviation = 0.999999999201\n",
      "Iteration 42: Average Return = 55.71, standard deviation = 0.999999999183\n",
      "Iteration 43: Average Return = 62.84, standard deviation = 0.999999999251\n",
      "Iteration 44: Average Return = 63.14, standard deviation = 0.999999999254\n",
      "Iteration 45: Average Return = 61.87, standard deviation = 0.999999999243\n",
      "Iteration 46: Average Return = 60.83, standard deviation = 0.999999999232\n",
      "Iteration 47: Average Return = 63.69, standard deviation = 0.999999999259\n",
      "Iteration 48: Average Return = 68.8, standard deviation = 0.999999999295\n",
      "Iteration 49: Average Return = 70.23, standard deviation = 0.999999999306\n",
      "Iteration 50: Average Return = 67.17, standard deviation = 0.999999999285\n",
      "Iteration 51: Average Return = 63.81, standard deviation = 0.999999999259\n",
      "Iteration 52: Average Return = 73.18, standard deviation = 0.999999999325\n",
      "Iteration 53: Average Return = 67.63, standard deviation = 0.999999999288\n",
      "Iteration 54: Average Return = 75.02, standard deviation = 0.999999999335\n",
      "Iteration 55: Average Return = 77.8, standard deviation = 0.99999999935\n",
      "Iteration 56: Average Return = 77.98, standard deviation = 0.999999999352\n",
      "Iteration 57: Average Return = 74.18, standard deviation = 0.999999999331\n",
      "Iteration 58: Average Return = 80.69, standard deviation = 0.999999999365\n",
      "Iteration 59: Average Return = 80.67, standard deviation = 0.999999999366\n",
      "Iteration 60: Average Return = 77.94, standard deviation = 0.999999999352\n",
      "Iteration 61: Average Return = 83.69, standard deviation = 0.99999999938\n",
      "Iteration 62: Average Return = 76.7, standard deviation = 0.999999999346\n",
      "Iteration 63: Average Return = 86.81, standard deviation = 0.999999999394\n",
      "Iteration 64: Average Return = 88.94, standard deviation = 0.999999999402\n",
      "Iteration 65: Average Return = 95.26, standard deviation = 0.999999999427\n",
      "Iteration 66: Average Return = 98.84, standard deviation = 0.999999999437\n",
      "Iteration 67: Average Return = 108.2, standard deviation = 0.999999999465\n",
      "Iteration 68: Average Return = 111.73, standard deviation = 0.999999999473\n",
      "Iteration 69: Average Return = 119.74, standard deviation = 0.999999999492\n",
      "Iteration 70: Average Return = 134.98, standard deviation = 0.99999999952\n",
      "Iteration 71: Average Return = 142.51, standard deviation = 0.99999999953\n",
      "Iteration 72: Average Return = 159.91, standard deviation = 0.999999999551\n",
      "Iteration 73: Average Return = 166.55, standard deviation = 0.999999999559\n",
      "Iteration 74: Average Return = 173.07, standard deviation = 0.999999999565\n",
      "Iteration 75: Average Return = 177.68, standard deviation = 0.999999999569\n",
      "Iteration 76: Average Return = 176.37, standard deviation = 0.999999999567\n",
      "Iteration 77: Average Return = 179.27, standard deviation = 0.99999999957\n",
      "Iteration 78: Average Return = 182.31, standard deviation = 0.999999999573\n",
      "Iteration 79: Average Return = 180.76, standard deviation = 0.999999999571\n",
      "Iteration 80: Average Return = 184.5, standard deviation = 0.999999999574\n",
      "Iteration 81: Average Return = 181.82, standard deviation = 0.999999999571\n",
      "Iteration 82: Average Return = 187.33, standard deviation = 0.999999999576\n",
      "Iteration 83: Average Return = 192.66, standard deviation = 0.99999999958\n",
      "Iteration 84: Average Return = 191.16, standard deviation = 0.999999999579\n",
      "Iteration 85: Average Return = 192.81, standard deviation = 0.99999999958\n",
      "Iteration 86: Average Return = 195.87, standard deviation = 0.999999999582\n",
      "Solve at 86 iterations, which equals 8600 episodes.\n"
     ]
    }
   ],
   "source": [
    "n_iter = 200\n",
    "n_episode = 100\n",
    "path_length = 200\n",
    "discount_rate = 0.99\n",
    "#baseline = LinearFeatureBaseline(env.spec)\n",
    "baseline = None\n",
    "\n",
    "po = PolicyOptimizer(env, policy, baseline, n_iter, n_episode, path_length,\n",
    "                     discount_rate)\n",
    "\n",
    "# Store result for plot purpose\n",
    "iter_num = []\n",
    "avg = []\n",
    "std = []\n",
    "# Train the policy optimizer\n",
    "po.train()\n"
   ]
  },
  {
   "cell_type": "code",
   "execution_count": 7,
   "metadata": {
    "collapsed": false
   },
   "outputs": [
    {
     "data": {
      "image/png": "[encoded data removed]",
      "text/plain": [
       "<matplotlib.figure.Figure at 0x7ff6c82b53d0>"
      ]
     },
     "metadata": {},
     "output_type": "display_data"
    }
   ],
   "source": [
    "# Display figures to visualize average return and standard deviation\n",
    "plt.title('Average Return with baseline')\n",
    "plt.xlabel('Iteration')\n",
    "plt.ylabel('Average Return')\n",
    "plt.errorbar(iter_num, avg, yerr=std, color='b', linewidth=2, ecolor='k', elinewidth=0.5)\n",
    "plt.show()"
   ]
  },
  {
   "cell_type": "markdown",
   "metadata": {},
   "source": [
    "# Verify your solutions\n",
    "\n",
    "if you solve the problems 1~4 correctly, your will solve CartPole with roughly ~ 80 iterations."
   ]
  },
  {
   "cell_type": "markdown",
   "metadata": {},
   "source": [
    "# Problem 5\n",
    "Replacing line \n",
    "\n",
    "`baseline = LinearFeatureBaseline(env.spec)` \n",
    "\n",
    "with \n",
    "\n",
    "`baseline = None`\n",
    "\n",
    "can remove the baseline.\n",
    "\n",
    "Modify the code to compare the variance and performance before and after adding baseline.\n",
    "Then, write a report about your findings. (with figures is better)"
   ]
  },
  {
   "cell_type": "code",
   "execution_count": 8,
   "metadata": {
    "collapsed": false
   },
   "outputs": [
    {
     "name": "stdout",
     "output_type": "stream",
     "text": [
      "===========================================\n",
      "The following two images are pre-trained policy: \n",
      "===========================================\n"
     ]
    },
    {
     "data": {
      "image/png": "[encoded data removed]",
      "text/plain": [
       "<IPython.core.display.Image object>"
      ]
     },
     "metadata": {},
     "output_type": "display_data"
    },
    {
     "data": {
      "image/png": "[encoded data removed]",
      "text/plain": [
       "<IPython.core.display.Image object>"
      ]
     },
     "metadata": {},
     "output_type": "display_data"
    }
   ],
   "source": [
    "from IPython.display import display, Image\n",
    "print(\"===========================================\")\n",
    "print(\"The following two images are pre-trained policy: \")\n",
    "print(\"===========================================\")\n",
    "display(Image(filename=\"Average_return_with_baseline.png\"), Image(filename=\"Average_return_without_baseline.png\"))"
   ]
  },
  {
   "cell_type": "markdown",
   "metadata": {},
   "source": [
    "上兩圖中的藍色線為Average Return值，而黑色線則表示Stardard Deviation範圍。\n",
    "\n",
    "上圖是有在Policy Gradient中加入Baseline，而下圖則無，可以看到Standar Deviation值具有明顯差異，換算則Variance的話，有加入Baseline大約可以減少Variance約300～400左右，而在Variance值減少的情況下，原本可預期減少iteration數，在實驗中也曾測到Iteration數減少約10～20，但是因為每次執行的結果都不同，所以這裡給的數值只是大概值。"
   ]
  },
  {
   "cell_type": "markdown",
   "metadata": {},
   "source": [
    "# Problem 6\n",
    "\n",
    "In function process_paths of class `PolicyOptimizer`, why we need to normalize the advantages? i.e., what's the usage of this line:\n",
    "\n",
    "`p[\"advantages\"] = (a - a.mean()) / (a.std() + 1e-8)`\n",
    "\n",
    "Include the answer in your report."
   ]
  },
  {
   "cell_type": "markdown",
   "metadata": {},
   "source": [
    "針對Advantage進行Normalization的話能夠穩定Rewards中的variance大小的影響，進一步讓Iteration數趨於穩定，原預期此一步驟可讓Gradient趨於穩定，然而經多次實驗後卻發現Iteration數量不減反增，加入Normalization僅能讓加入Baseline的因素影響減少而已，因此判定Normalization可讓Training過程穩定。"
   ]
  }
 ],
 "metadata": {
  "kernelspec": {
   "display_name": "Python 2",
   "language": "python",
   "name": "python2"
  },
  "language_info": {
   "codemirror_mode": {
    "name": "ipython",
    "version": 2
   },
   "file_extension": ".py",
   "mimetype": "text/x-python",
   "name": "python",
   "nbconvert_exporter": "python",
   "pygments_lexer": "ipython2",
   "version": "2.7.6"
  }
 },
 "nbformat": 4,
 "nbformat_minor": 0
}
