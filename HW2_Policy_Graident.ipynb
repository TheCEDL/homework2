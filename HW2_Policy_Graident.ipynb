{
 "cells": [
  {
   "cell_type": "code",
   "execution_count": 98,
   "metadata": {
    "collapsed": false
   },
   "outputs": [
    {
     "name": "stdout",
     "output_type": "stream",
     "text": [
      "The autoreload extension is already loaded. To reload it, use:\n",
      "  %reload_ext autoreload\n"
     ]
    }
   ],
   "source": [
    "# Automatically reload changes to external code\n",
    "%load_ext autoreload\n",
    "%autoreload 2"
   ]
  },
  {
   "cell_type": "markdown",
   "metadata": {},
   "source": [
    "In this assignment, you will solve a classic control problem - CartPole using policy gradient methods.\n",
    "\n",
    "First, you will implement the \"vanilla\" policy gradient method, i.e., a method that repeatedly computes **unbiased** estimates $\\hat{g}$ of $\\nabla_{\\theta} E[\\sum_t r_t]$ and takes gradient ascent steps $\\theta \\rightarrow \\theta + \\epsilon \\hat{g}$ so as to increase the total rewards collected in each episode. To make sure our code can solve multiple MDPs with different policy parameterizations, provided code follows an OOP manner and represents MDP and Policy as classes.\n",
    "\n",
    "The following code constructs an instance of the MDP using OpenAI gym."
   ]
  },
  {
   "cell_type": "code",
   "execution_count": 99,
   "metadata": {
    "collapsed": false
   },
   "outputs": [
    {
     "name": "stderr",
     "output_type": "stream",
     "text": [
      "[2016-10-17 10:18:51,729] Making new env: CartPole-v0\n"
     ]
    }
   ],
   "source": [
    "import gym\n",
    "import tensorflow as tf\n",
    "import numpy as np\n",
    "#------------------------------\n",
    "import matplotlib.pyplot as plt\n",
    "#------------------------------\n",
    "from policy_gradient import util\n",
    "from policy_gradient.policy import CategoricalPolicy\n",
    "from policy_gradient.baselines.linear_feature_baseline import LinearFeatureBaseline\n",
    "\n",
    "np.random.seed(0)\n",
    "tf.set_random_seed(0)\n",
    "\n",
    "# CartPole-v0 is a MDP with finite state and action space. \n",
    "# In this environment, A pendulum is attached by an un-actuated joint to a cart, \n",
    "# and the goal is to prevent it from falling over. You can apply a force of +1 or -1 to the cart.\n",
    "# A reward of +1 is provided for every timestep that the pendulum remains upright. \n",
    "# To visualize CartPole-v0, please see https://gym.openai.com/envs/CartPole-v0\n",
    "\n",
    "env = gym.make('CartPole-v0')\n",
    "#env.monitor.start('/tmp/cartpole-experiment-1')"
   ]
  },
  {
   "cell_type": "markdown",
   "metadata": {},
   "source": [
    "## Problem 1: construct a neural network to represent policy\n",
    "\n",
    "Make sure you know how to construct neural network using tensorflow.\n",
    "\n",
    "1. Open **homework2/policy_gradient/policy.py**.\n",
    "2. Follow the instruction of Problem 1."
   ]
  },
  {
   "cell_type": "markdown",
   "metadata": {},
   "source": [
    "## Problem 2: compute the surrogate loss\n",
    "\n",
    "If there are $N$ episodes in an iteration, then for $i$ th episode we define $R_t^i = \\sum_{{t^′}=t}^T \\gamma^{{t^′}-t}r(s_{t^′}, a_{t^′})$ as the accumulated discounted rewards from timestep $t$ to the end of that episode, where $\\gamma$ is the discount rate.\n",
    "\n",
    "The pseudocode for the REINFORCE algorithm is as below:\n",
    "\n",
    "1. Initialize policy $\\pi$ with parameter $\\theta_1$.\n",
    "2. For iteration $k = 1, 2, ...$:\n",
    "    * Sample N episodes $\\tau_1, \\tau_2, ..., \\tau_N$ under the current policy $\\theta_k$, where $\\tau_i =(s_i^t,a_i^t,R_i^t)_{t=0}^{T−1}$. Note that the last state is dropped since no action is taken after observing the last state.\n",
    "    * Compute the empirical policy gradient using formula: $$\\hat{g} = E_{\\pi_\\theta}[\\nabla_{\\theta} log\\pi_\\theta(a_t^i | s_t^i) R_t^i]$$\n",
    "    * Take a gradient step: $\\theta_{k+1} = \\theta_k + \\epsilon \\hat{g}$.\n",
    "    \n",
    "    \n",
    "Note that we can transform the policy gradient formula as\n",
    "\n",
    "$$\\hat{g} = \\nabla_{\\theta} \\frac{1}{(NT)}(\\sum_{i=1}^N \\sum_{t=0}^T log\\pi_\\theta(a_t^i | s_t^i) R_t^i)$$\n",
    "\n",
    "and $L(\\theta) = \\frac{1}{(NT)}(\\sum_{i=1}^N \\sum_{t=0}^T log\\pi_\\theta(a_t^i | s_t^i) R_t^i)$ is called the surrogate loss. \n",
    "\n",
    "We can first construct the computation graph for $L(\\theta)$, and then take its gradient as the empirical policy gradient.\n",
    "\n",
    "\n",
    "1. Open **homework2/policy_gradient/policy.py**.\n",
    "2. Follow the instruction of Problem 2."
   ]
  },
  {
   "cell_type": "code",
   "execution_count": 100,
   "metadata": {
    "collapsed": false
   },
   "outputs": [],
   "source": [
    "sess = tf.Session()\n",
    "\n",
    "# Construct a neural network to represent policy which maps observed state to action. \n",
    "in_dim = util.flatten_space(env.observation_space)\n",
    "out_dim = util.flatten_space(env.action_space)\n",
    "hidden_dim = 8\n",
    "\n",
    "opt = tf.train.AdamOptimizer(learning_rate=0.01)\n",
    "policy = CategoricalPolicy(in_dim, out_dim, hidden_dim, opt, sess)\n",
    "\n",
    "sess.run(tf.initialize_all_variables())"
   ]
  },
  {
   "cell_type": "markdown",
   "metadata": {},
   "source": [
    "# Problem 3\n",
    "\n",
    "Implement a function that computes the accumulated discounted rewards of each timestep _t_ from _t_ to the end of the episode.\n",
    "\n",
    "For example:\n",
    "\n",
    "```python\n",
    "rewards = [1, 1, 1]\n",
    "discount_rate = 0.99\n",
    "util.discount_cumsum(rewards, discount_rate)\n",
    "```\n",
    "\n",
    "should return:\n",
    "\n",
    "`array([ 2.9701,  1.99  ,  1.    ])`\n",
    "\n",
    "1. Open **homework/policy_gradient/util.py**.\n",
    "2. Implement the commented function."
   ]
  },
  {
   "cell_type": "markdown",
   "metadata": {},
   "source": [
    "# Problem 4\n",
    "\n",
    "Use baseline to reduce the variance of our gradient estimate.\n",
    "\n",
    "1. Fill in the function `process_paths` of class `PolicyOptimizer` below."
   ]
  },
  {
   "cell_type": "code",
   "execution_count": 101,
   "metadata": {
    "collapsed": false
   },
   "outputs": [],
   "source": [
    "class PolicyOptimizer(object):\n",
    "    def __init__(self, env, policy, baseline, n_iter, n_episode, path_length,\n",
    "        discount_rate=.99):\n",
    "\n",
    "        self.policy = policy\n",
    "        self.baseline = baseline\n",
    "        self.env = env\n",
    "        self.n_iter = n_iter\n",
    "        self.n_episode = n_episode\n",
    "        self.path_length = path_length\n",
    "        self.discount_rate = discount_rate\n",
    "        #----------------------------------\n",
    "        self.stats = {} # A dictionary used to record loss , variance , return ....\n",
    "        #----------------------------------\n",
    "\n",
    "    def sample_path(self):\n",
    "        obs = []\n",
    "        actions = []\n",
    "        rewards = []\n",
    "        ob = self.env.reset()\n",
    "\n",
    "        for _ in range(self.path_length):\n",
    "            #--------------------\n",
    "            #self.env.render()\n",
    "            #---------------------\n",
    "            a = self.policy.act(ob.reshape(1, -1))\n",
    "            next_ob, r, done, _ = self.env.step(a)\n",
    "            obs.append(ob)\n",
    "            actions.append(a)\n",
    "            rewards.append(r)\n",
    "            ob = next_ob\n",
    "            if done:\n",
    "                break\n",
    "\n",
    "        return dict(\n",
    "            observations=np.array(obs),\n",
    "            actions=np.array(actions),\n",
    "            rewards=np.array(rewards),\n",
    "        )\n",
    "\n",
    "    def process_paths(self,paths):\n",
    "        for p in paths:\n",
    "                            \n",
    "            if self.baseline != None:\n",
    "                b = self.baseline.predict(p)\n",
    "            else:\n",
    "                b = 0\n",
    "            # `p[\"rewards\"]` is a matrix contains the rewards of each timestep in a sample path\n",
    "            r = util.discount_cumsum(p[\"rewards\"], self.discount_rate)\n",
    "            \"\"\"\n",
    "            Problem 4:\n",
    "\n",
    "            1. Variable `b` is the reward predicted by our baseline\n",
    "            2. Use it to reduce variance and then assign the result to the variable `a`\n",
    "\n",
    "            Sample solution should be only 1 line.\n",
    "            \"\"\"\n",
    "            # YOUR CODE HERE >>>>>>>>>\n",
    "            a = (r-b)\n",
    "            # <<<<<<<<<<<<<<<<<<<<<<<<\n",
    "            \n",
    "            p[\"adv_var\"] = np.var(a)\n",
    "            p[\"returns\"] = r\n",
    "            p[\"baselines\"] = b\n",
    "            p[\"advantages\"] = (a - a.mean()) / (a.std() + 1e-8) # normalize\n",
    "    \n",
    "        obs = np.concatenate([ p[\"observations\"] for p in paths ])\n",
    "        actions = np.concatenate([ p[\"actions\"] for p in paths ])\n",
    "        rewards = np.concatenate([ p[\"rewards\"] for p in paths ])\n",
    "        advantages = np.concatenate([ p[\"advantages\"] for p in paths ])\n",
    "        #-------------------------------------------------------------------\n",
    "        adv_var = np.array([p[\"adv_var\"] for p in paths])\n",
    "        #-------------------------------------------------------------------\n",
    "        return dict(\n",
    "            observations=obs,\n",
    "            actions=actions,\n",
    "            rewards=rewards,\n",
    "            advantages=advantages,\n",
    "            adv_var = adv_var\n",
    "        )\n",
    "\n",
    "    def train(self,return_list):\n",
    "        self.stats['avg_adv_var_baseline'] = []\n",
    "        #self.stats['avg_adv_var_nobase'] = []\n",
    "        for i in range(1, self.n_iter + 1):\n",
    "            paths = []\n",
    "            for _ in range(self.n_episode):\n",
    "                paths.append(self.sample_path())\n",
    "            \n",
    "            #----------------------------------------------------------------\n",
    "            data = self.process_paths(paths)\n",
    "            self.stats['avg_adv_var_baseline'].append(np.mean(data[\"adv_var\"]))\n",
    "            #self.stats['avg_adv_var_nobase'].append(np.mean(data[\"adv_var\"])) \n",
    "            #----------------------------------------------------------------\n",
    "            loss = self.policy.train(data[\"observations\"], data[\"actions\"], data[\"advantages\"])\n",
    "            avg_return = np.mean([sum(p[\"rewards\"]) for p in paths])\n",
    "            #-------------------------------------------------------------------------------------\n",
    "            return_list.append(avg_return)\n",
    "            #-------------------------------------------------------------------------------------\n",
    "            print(\"Iteration {}: Average Return = {} ,Var_B = {}\".format(i, avg_return,\n",
    "                np.mean(data[\"adv_var\"])))\n",
    "            # CartPole-v0 defines \"solving\" as getting average reward of 195.0 over 100 consecutive trials.\n",
    "            if avg_return >= 195:\n",
    "                print(\"Solve at {} iterations, which equals {} episodes.\".format(i, i*100))\n",
    "                break\n",
    "\n",
    "            if self.baseline != None:\n",
    "                self.baseline.fit(paths)\n",
    "        "
   ]
  },
  {
   "cell_type": "code",
   "execution_count": 102,
   "metadata": {
    "collapsed": false,
    "scrolled": true
   },
   "outputs": [
    {
     "name": "stdout",
     "output_type": "stream",
     "text": [
      "Iteration 1: Average Return = 25.44 ,Var_B = 47.1509761542\n",
      "Iteration 2: Average Return = 28.53 ,Var_B = 45.8530490321\n",
      "Iteration 3: Average Return = 31.93 ,Var_B = 42.3224804794\n",
      "Iteration 4: Average Return = 28.97 ,Var_B = 36.2206476526\n",
      "Iteration 5: Average Return = 32.99 ,Var_B = 27.651355086\n",
      "Iteration 6: Average Return = 35.58 ,Var_B = 31.6471268862\n",
      "Iteration 7: Average Return = 36.5 ,Var_B = 48.9792688507\n",
      "Iteration 8: Average Return = 38.52 ,Var_B = 32.0712588709\n",
      "Iteration 9: Average Return = 37.69 ,Var_B = 48.0459704406\n",
      "Iteration 10: Average Return = 40.01 ,Var_B = 41.3751388452\n",
      "Iteration 11: Average Return = 43.51 ,Var_B = 44.9528494541\n",
      "Iteration 12: Average Return = 42.82 ,Var_B = 40.721662773\n",
      "Iteration 13: Average Return = 46.35 ,Var_B = 44.3551316745\n",
      "Iteration 14: Average Return = 44.99 ,Var_B = 38.2226437667\n",
      "Iteration 15: Average Return = 47.34 ,Var_B = 48.3173365439\n",
      "Iteration 16: Average Return = 46.66 ,Var_B = 30.8778415485\n",
      "Iteration 17: Average Return = 48.53 ,Var_B = 37.8361724289\n",
      "Iteration 18: Average Return = 49.05 ,Var_B = 38.4501533807\n",
      "Iteration 19: Average Return = 48.96 ,Var_B = 41.1958563803\n",
      "Iteration 20: Average Return = 53.84 ,Var_B = 38.4577414164\n",
      "Iteration 21: Average Return = 53.1 ,Var_B = 40.1887224166\n",
      "Iteration 22: Average Return = 52.51 ,Var_B = 41.3881493526\n",
      "Iteration 23: Average Return = 52.78 ,Var_B = 29.3820177354\n",
      "Iteration 24: Average Return = 57.06 ,Var_B = 50.106077205\n",
      "Iteration 25: Average Return = 58.02 ,Var_B = 61.1893803504\n",
      "Iteration 26: Average Return = 54.33 ,Var_B = 48.1562061234\n",
      "Iteration 27: Average Return = 56.43 ,Var_B = 34.9176553479\n",
      "Iteration 28: Average Return = 57.87 ,Var_B = 39.5841881896\n",
      "Iteration 29: Average Return = 54.94 ,Var_B = 39.3229841539\n",
      "Iteration 30: Average Return = 55.19 ,Var_B = 27.5106178795\n",
      "Iteration 31: Average Return = 58.2 ,Var_B = 34.0358604077\n",
      "Iteration 32: Average Return = 61.21 ,Var_B = 44.0075896774\n",
      "Iteration 33: Average Return = 59.67 ,Var_B = 41.157751832\n",
      "Iteration 34: Average Return = 64.03 ,Var_B = 45.0166217278\n",
      "Iteration 35: Average Return = 62.62 ,Var_B = 44.2509100086\n",
      "Iteration 36: Average Return = 63.44 ,Var_B = 44.8500060823\n",
      "Iteration 37: Average Return = 61.3 ,Var_B = 35.5544342789\n",
      "Iteration 38: Average Return = 62.19 ,Var_B = 36.2575276687\n",
      "Iteration 39: Average Return = 70.7 ,Var_B = 44.1424047268\n",
      "Iteration 40: Average Return = 72.23 ,Var_B = 40.6235323318\n",
      "Iteration 41: Average Return = 70.89 ,Var_B = 47.5931129656\n",
      "Iteration 42: Average Return = 70.63 ,Var_B = 46.7093379989\n",
      "Iteration 43: Average Return = 76.25 ,Var_B = 52.9121616385\n",
      "Iteration 44: Average Return = 75.88 ,Var_B = 54.1169384868\n",
      "Iteration 45: Average Return = 75.27 ,Var_B = 45.03912973\n",
      "Iteration 46: Average Return = 70.8 ,Var_B = 42.252331603\n",
      "Iteration 47: Average Return = 74.57 ,Var_B = 38.5221243294\n",
      "Iteration 48: Average Return = 79.72 ,Var_B = 50.4226405878\n",
      "Iteration 49: Average Return = 85.27 ,Var_B = 52.2333603416\n",
      "Iteration 50: Average Return = 88.38 ,Var_B = 66.7958102795\n",
      "Iteration 51: Average Return = 92.26 ,Var_B = 71.9220545978\n",
      "Iteration 52: Average Return = 93.04 ,Var_B = 54.0929406007\n",
      "Iteration 53: Average Return = 92.38 ,Var_B = 54.2683190419\n",
      "Iteration 54: Average Return = 101.32 ,Var_B = 68.143195066\n",
      "Iteration 55: Average Return = 106.35 ,Var_B = 64.2363943463\n",
      "Iteration 56: Average Return = 105.19 ,Var_B = 64.9704456674\n",
      "Iteration 57: Average Return = 112.95 ,Var_B = 61.2926248326\n",
      "Iteration 58: Average Return = 126.24 ,Var_B = 68.6998379569\n",
      "Iteration 59: Average Return = 134.99 ,Var_B = 59.261940938\n",
      "Iteration 60: Average Return = 147.96 ,Var_B = 59.6579559915\n",
      "Iteration 61: Average Return = 164.25 ,Var_B = 54.4504212226\n",
      "Iteration 62: Average Return = 175.68 ,Var_B = 32.8744477292\n",
      "Iteration 63: Average Return = 185.62 ,Var_B = 27.0658018166\n",
      "Iteration 64: Average Return = 187.76 ,Var_B = 16.7117824054\n",
      "Iteration 65: Average Return = 193.62 ,Var_B = 11.3920375301\n",
      "Iteration 66: Average Return = 190.54 ,Var_B = 11.8152479761\n",
      "Iteration 67: Average Return = 190.38 ,Var_B = 12.344636435\n",
      "Iteration 68: Average Return = 193.8 ,Var_B = 10.7031215157\n",
      "Iteration 69: Average Return = 193.87 ,Var_B = 10.1893943212\n",
      "Iteration 70: Average Return = 195.36 ,Var_B = 5.49524662132\n",
      "Solve at 70 iterations, which equals 7000 episodes.\n"
     ]
    },
    {
     "data": {
      "image/png": "[encoded data removed]",
      "text/plain": [
       "<matplotlib.figure.Figure at 0x7f384d1aef50>"
      ]
     },
     "metadata": {},
     "output_type": "display_data"
    },
    {
     "data": {
      "image/png": "[encoded data removed]",
      "text/plain": [
       "<matplotlib.figure.Figure at 0x7f384b9291d0>"
      ]
     },
     "metadata": {},
     "output_type": "display_data"
    }
   ],
   "source": [
    "n_iter = 200\n",
    "n_episode = 100\n",
    "path_length = 200\n",
    "discount_rate = 0.99\n",
    "baseline = LinearFeatureBaseline(env.spec)\n",
    "#baseline = None\n",
    "po = PolicyOptimizer(env, policy, baseline, n_iter, n_episode, path_length,\n",
    "                     discount_rate)\n",
    "\n",
    "# Train the policy optimizer\n",
    "return_list = []\n",
    "po.train(return_list)\n",
    "x = np.array(range(1,len(return_list)+1))\n",
    "y = np.array(return_list)\n",
    "plt.plot(x,y)\n",
    "plt.xlabel(\"Iterations\")\n",
    "plt.ylabel(\"Avg return\")\n",
    "plt.title(\"Without baseline\")\n",
    "plt.show()\n",
    "\n",
    "y1 = np.array(po.stats[\"avg_adv_var_baseline\"])\n",
    "#y2 = np.array(po.stats[\"avg_adv_var_nobase\"])\n",
    "plt.plot(x,y1)\n",
    "#plt.plot(x,y2)\n",
    "plt.xlabel(\"Iterations\")\n",
    "plt.ylabel(\"Avg Advantage Variance\")\n",
    "#plt.title(\"Without baseline\")\n",
    "plt.legend([\"With baseline\",\"No baseline\"])\n",
    "plt.show()\n",
    "\n",
    "\n",
    "#env.monitor.close()"
   ]
  },
  {
   "cell_type": "markdown",
   "metadata": {},
   "source": [
    "# Verify your solutions\n",
    "\n",
    "if you solve the problems 1~4 correctly, your will solve CartPole with roughly ~ 80 iterations."
   ]
  },
  {
   "cell_type": "markdown",
   "metadata": {},
   "source": [
    "# Problem 5\n",
    "Replacing line \n",
    "\n",
    "`baseline = LinearFeatureBaseline(env.spec)` \n",
    "\n",
    "with \n",
    "\n",
    "`baseline = None`\n",
    "\n",
    "can remove the baseline.\n",
    "\n",
    "Modify the code to compare the variance and performance before and after adding baseline.\n",
    "Then, write a report about your findings. (with figures is better)"
   ]
  },
  {
   "cell_type": "markdown",
   "metadata": {},
   "source": [
    "# Problem 6\n",
    "\n",
    "In function process_paths of class `PolicyOptimizer`, why we need to normalize the advantages? i.e., what's the usage of this line:\n",
    "\n",
    "`p[\"advantages\"] = (a - a.mean()) / (a.std() + 1e-8)`\n",
    "\n",
    "Include the answer in your report."
   ]
  }
 ],
 "metadata": {
  "anaconda-cloud": {},
  "kernelspec": {
   "display_name": "Python 2",
   "language": "python",
   "name": "python2"
  },
  "language_info": {
   "codemirror_mode": {
    "name": "ipython",
    "version": 2
   },
   "file_extension": ".py",
   "mimetype": "text/x-python",
   "name": "python",
   "nbconvert_exporter": "python",
   "pygments_lexer": "ipython2",
   "version": "2.7.12"
  }
 },
 "nbformat": 4,
 "nbformat_minor": 0
}
