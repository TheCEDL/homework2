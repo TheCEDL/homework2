{
 "cells": [
  {
   "cell_type": "code",
   "execution_count": 29,
   "metadata": {
    "collapsed": false
   },
   "outputs": [
    {
     "name": "stdout",
     "output_type": "stream",
     "text": [
      "(2.9701, <type 'numpy.float64'>)\n",
      "(1.99, <type 'numpy.float64'>)\n",
      "(1.0, <type 'numpy.float64'>)\n"
     ]
    }
   ],
   "source": [
    "from gym.spaces import Box, Discrete\n",
    "import numpy as np\n",
    "from scipy.signal import lfilter\n",
    "\n",
    "def flatten_space(space):\n",
    "\tif isinstance(space, Box):\n",
    "\t\treturn np.prod(space.shape)\n",
    "\telif isinstance(space, Discrete):\n",
    "\t\treturn space.n\n",
    "\telse:\n",
    "\t\traise ValueError(\"Env must be either Box or Discrete.\")\n",
    "        \n",
    "x = np.array([1, 1, 1])\n",
    "y = np.zeros(len(x))\n",
    "r = 0.99\n",
    "# print(len(x))\n",
    "for i in range(len(x)):\n",
    "    for j in range(i, len(x)):\n",
    "        y[i] = y[i] + (x[j]*(r**(j-i)))\n",
    "    print(y[i], type(y[i]))"
   ]
  },
  {
   "cell_type": "code",
   "execution_count": 32,
   "metadata": {
    "collapsed": false
   },
   "outputs": [
    {
     "ename": "ImportError",
     "evalue": "No module named base",
     "output_type": "error",
     "traceback": [
      "\u001b[0;31m---------------------------------------------------------------------------\u001b[0m",
      "\u001b[0;31mImportError\u001b[0m                               Traceback (most recent call last)",
      "\u001b[0;32m<ipython-input-32-b3173feef156>\u001b[0m in \u001b[0;36m<module>\u001b[0;34m()\u001b[0m\n\u001b[0;32m----> 1\u001b[0;31m \u001b[0;32mfrom\u001b[0m \u001b[0mbase\u001b[0m \u001b[0;32mimport\u001b[0m \u001b[0mBaseline\u001b[0m\u001b[0;34m\u001b[0m\u001b[0m\n\u001b[0m\u001b[1;32m      2\u001b[0m \u001b[0;32mimport\u001b[0m \u001b[0mnumpy\u001b[0m \u001b[0;32mas\u001b[0m \u001b[0mnp\u001b[0m\u001b[0;34m\u001b[0m\u001b[0m\n\u001b[1;32m      3\u001b[0m \u001b[0;32mprint\u001b[0m\u001b[0;34m(\u001b[0m\u001b[0mpath\u001b[0m\u001b[0;34m[\u001b[0m\u001b[0;34m\"rewards\"\u001b[0m\u001b[0;34m]\u001b[0m\u001b[0;34m)\u001b[0m\u001b[0;34m\u001b[0m\u001b[0m\n",
      "\u001b[0;31mImportError\u001b[0m: No module named base"
     ]
    }
   ],
   "source": [
    "from base import Baseline\n",
    "import numpy as np\n",
    "print(path[\"rewards\"])"
   ]
  },
  {
   "cell_type": "code",
   "execution_count": null,
   "metadata": {
    "collapsed": true
   },
   "outputs": [],
   "source": []
  }
 ],
 "metadata": {
  "kernelspec": {
   "display_name": "Python 2",
   "language": "python",
   "name": "python2"
  },
  "language_info": {
   "codemirror_mode": {
    "name": "ipython",
    "version": 2
   },
   "file_extension": ".py",
   "mimetype": "text/x-python",
   "name": "python",
   "nbconvert_exporter": "python",
   "pygments_lexer": "ipython2",
   "version": "2.7.12"
  }
 },
 "nbformat": 4,
 "nbformat_minor": 1
}
